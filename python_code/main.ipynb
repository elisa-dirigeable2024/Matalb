{
 "cells": [
  {
   "cell_type": "code",
   "execution_count": 9,
   "metadata": {},
   "outputs": [],
   "source": [
    "import scipy.io"
   ]
  },
  {
   "cell_type": "code",
   "execution_count": 10,
   "metadata": {},
   "outputs": [],
   "source": [
    "data = {\n",
    "    'x1': [2.1, 2.1, -2.1, -2.1],\n",
    "    'x2': [1.9, 1.9, -1.9, -1.9],\n",
    "    'y1': [0.9, -0.9, 0.9, -0.9],\n",
    "    'y2': [1.1, -1.1, 1.1, -1.1],\n",
    "    'z1': [-0.05, -0.05, -0.05, -0.05],\n",
    "    'z2': [0.05, 0.05, 0.05, 0.05]\n",
    "}"
   ]
  },
  {
   "cell_type": "code",
   "execution_count": 11,
   "metadata": {},
   "outputs": [],
   "source": [
    "scipy.io.savemat(\"MotorPosition.mat\", data)"
   ]
  },
  {
   "cell_type": "code",
   "execution_count": 12,
   "metadata": {},
   "outputs": [],
   "source": [
    "data_nacelle = {\n",
    "    'x1': -0.25,\n",
    "    'x2': 0.25,\n",
    "    'y1': -0.15,\n",
    "    'y2': 0.15,\n",
    "    'z1': -0.7,\n",
    "    'z2': -0.9\n",
    "}"
   ]
  },
  {
   "cell_type": "code",
   "execution_count": 13,
   "metadata": {},
   "outputs": [],
   "source": [
    "scipy.io.savemat(\"NacellePosition.mat\", data_nacelle)"
   ]
  },
  {
   "cell_type": "code",
   "execution_count": 14,
   "metadata": {},
   "outputs": [],
   "source": [
    "data_grappling_hook = {\n",
    "    'x1': 0.8,\n",
    "    'x2': 1,\n",
    "    'y1': -0.20,\n",
    "    'y2': 0.20,\n",
    "    'z1': -0.6,\n",
    "    'z2': -0.8    \n",
    "}"
   ]
  },
  {
   "cell_type": "code",
   "execution_count": 15,
   "metadata": {},
   "outputs": [],
   "source": [
    "scipy.io.savemat(\"GrapplingHook.mat\", data_grappling_hook)"
   ]
  }
 ],
 "metadata": {
  "kernelspec": {
   "display_name": "jaxspec",
   "language": "python",
   "name": "python3"
  },
  "language_info": {
   "codemirror_mode": {
    "name": "ipython",
    "version": 3
   },
   "file_extension": ".py",
   "mimetype": "text/x-python",
   "name": "python",
   "nbconvert_exporter": "python",
   "pygments_lexer": "ipython3",
   "version": "3.10.13"
  }
 },
 "nbformat": 4,
 "nbformat_minor": 2
}
