{
 "cells": [
  {
   "cell_type": "code",
   "execution_count": 14,
   "metadata": {},
   "outputs": [],
   "source": [
    "import numpy as np"
   ]
  },
  {
   "cell_type": "code",
   "execution_count": 15,
   "metadata": {},
   "outputs": [],
   "source": [
    "commande = {\n",
    "    # switch\n",
    "        # mode vol / grappin\n",
    "    'state_switch_1': ..., # 0 --> position haut du switch 1 / 1 --> position basse du switch 1\n",
    "    'state_switch_2': ..., # 0 --> position haut du switch 2 / 1 --> position basse du switch 2\n",
    "    'state_switch_3': ..., # 0 --> position haut du switch 3 / 1 --> position milieu du switch 3 / 2 --> position basse du switch 3\n",
    "    'state_switch_4': ..., # 0 --> position haut du switch 4 / 1 --> position basse du switch 4\n",
    "\n",
    "    # position slider \n",
    "    'slider': ..., # valeur entre 0 et 100\n",
    "\n",
    "    # position joystick\n",
    "    'joystick': [..., ...], # [channel_1, channel_2]\n",
    "\n",
    "    # potentiomètre 1\n",
    "    'potentiometre_1': ..., # modification de la vitesse de rotation des moteurs grappin\n",
    "}"
   ]
  },
  {
   "cell_type": "code",
   "execution_count": 16,
   "metadata": {},
   "outputs": [],
   "source": [
    "def map_linear(x, in_min, in_max, out_min, out_max):\n",
    "    return int((x - in_min) * (out_max - out_min) / (in_max - in_min) + out_min)\n"
   ]
  },
  {
   "cell_type": "code",
   "execution_count": 17,
   "metadata": {},
   "outputs": [],
   "source": [
    "# retour du joystick pour direction\n",
    "\n",
    "def GetCommMotors(ch1, ch2):\n",
    "\n",
    "    DEAD_ZONE = 0.2    # 0 <= x <= 1\n",
    "\n",
    "    r = abs(ch1) + abs(ch2)\n",
    "    r_mapped = map_linear(r, DEAD_ZONE, 1, 0, 1)\n",
    "\n",
    "    if r <= DEAD_ZONE:\n",
    "        ch1_ = 0\n",
    "        ch2_ = 0\n",
    "    elif r >= DEAD_ZONE and r <= 1:\n",
    "        ch1_ = ch1 * r_mapped\n",
    "        ch2_ = ch2 * r_mapped\n",
    "    elif r >= 1:\n",
    "        ch1_ = ch1/r\n",
    "        ch2_ = ch2/r\n",
    "\n",
    "    Fv_G = -ch1_\n",
    "    Fv_D = ch1_\n",
    "    Fp_G = ch2_\n",
    "    Fp_D = ch2_\n",
    "\n",
    "    F_G = Fv_G + Fp_G\n",
    "    F_D = Fv_D + Fp_D\n",
    "\n",
    "    if F_G < 0:\n",
    "        angle_G = 0\n",
    "    elif F_G == 0:\n",
    "        angle_G = 90\n",
    "    elif F_G > 0:\n",
    "        angle_G = 180\n",
    "\n",
    "    if F_D < 0:\n",
    "        angle_D = 0\n",
    "    elif F_D == 0:\n",
    "        angle_D = 90\n",
    "    elif F_D > 0:\n",
    "        angle_D = 180\n",
    "\n",
    "    return abs(F_G), abs(F_D), angle_G, angle_D"
   ]
  },
  {
   "cell_type": "code",
   "execution_count": 18,
   "metadata": {},
   "outputs": [],
   "source": [
    "def GetSpeedGrappin(ch3):\n",
    "    \n",
    "    DEAD_ZONE = 0.2     # 0 <= x <= 2\n",
    "    MAX_SPEED = 1000\n",
    "    \n",
    "    if ch3 < -DEAD_ZONE/2:\n",
    "        speedGrappin = map_linear(ch3, -1, -DEAD_ZONE/2, -MAX_SPEED, 0)\n",
    "\n",
    "    elif (-DEAD_ZONE/2 <= ch3 and ch3 <= DEAD_ZONE/2):\n",
    "        speedGrappin = 0\n",
    "\n",
    "    elif (DEAD_ZONE/2 < ch3):\n",
    "        speedGrappin = map_linear(ch3, DEAD_ZONE/2, 1, 0, MAX_SPEED)\n",
    "    \n",
    "    return speedGrappin"
   ]
  },
  {
   "cell_type": "code",
   "execution_count": 19,
   "metadata": {},
   "outputs": [],
   "source": [
    "def FlightControl(commande) -> dict:\n",
    "\n",
    "    speed_motor_G, speed_motor_D, angle_servomot_G, angle_servomot_D = GetCommMotors(commande['joystick'][0], commande['joystick'][1])\n",
    "\n",
    "    instruction_motor = {\n",
    "\n",
    "        # gestion moteur avant droit\n",
    "        'speed_AvD': speed_motor_D,\n",
    "        'angle_AvD': angle_servomot_D,\n",
    "\n",
    "        # moteur avant gauche\n",
    "        'speed_AvG': speed_motor_G,\n",
    "        'angle_AvG': angle_servomot_G,\n",
    "\n",
    "        # moteur arrière droit\n",
    "        'speed_ArD': speed_motor_D,\n",
    "        'angle_ArD': angle_servomot_D,\n",
    "\n",
    "        # moteur arrière gauche\n",
    "        'speed_ArG': speed_motor_G,\n",
    "        'angle_ArG': angle_servomot_G\n",
    "\n",
    "    }\n",
    "\n",
    "    speed_stepmotor = GetSpeedGrappin(commande['slider']) # valeur entre -1 et 1\n",
    "\n",
    "    instruction_grappin = {\n",
    "        # control des vitesses de rotation des moteurs pas à pas\n",
    "        'speed_stepmotor' : speed_stepmotor\n",
    "    }\n",
    "\n",
    "    control = {\n",
    "        'instruction_motor': instruction_motor,\n",
    "        'instruction_grappin': instruction_grappin,\n",
    "        'instruction_ballast': ...,\n",
    "    }\n",
    "\n",
    "\n",
    "    return control"
   ]
  },
  {
   "cell_type": "code",
   "execution_count": null,
   "metadata": {},
   "outputs": [],
   "source": []
  }
 ],
 "metadata": {
  "kernelspec": {
   "display_name": "jaxspec",
   "language": "python",
   "name": "python3"
  },
  "language_info": {
   "codemirror_mode": {
    "name": "ipython",
    "version": 3
   },
   "file_extension": ".py",
   "mimetype": "text/x-python",
   "name": "python",
   "nbconvert_exporter": "python",
   "pygments_lexer": "ipython3",
   "version": "3.10.13"
  }
 },
 "nbformat": 4,
 "nbformat_minor": 2
}
