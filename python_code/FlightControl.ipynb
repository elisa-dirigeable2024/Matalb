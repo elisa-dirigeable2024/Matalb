{
 "cells": [
  {
   "cell_type": "code",
   "execution_count": 20,
   "metadata": {},
   "outputs": [],
   "source": [
    "import numpy as np"
   ]
  },
  {
   "cell_type": "code",
   "execution_count": 21,
   "metadata": {},
   "outputs": [],
   "source": [
    "commande = {\n",
    "    # switch\n",
    "        # mode vol / grappin\n",
    "    'state_switch_1': ..., # 0 --> position haut du switch 1 / 1 --> position basse du switch 1\n",
    "    'state_switch_2': ..., # 0 --> position haut du switch 2 / 1 --> position basse du switch 2\n",
    "    'state_switch_3': ..., # 0 --> position haut du switch 3 / 1 --> position milieu du switch 3 / 2 --> position basse du switch 3\n",
    "    'state_switch_4': ..., # 0 --> position haut du switch 4 / 1 --> position basse du switch 4\n",
    "\n",
    "    # position slider \n",
    "    'slider': ..., # valeur entre 0 et 100\n",
    "\n",
    "    # position joystick\n",
    "    'joystick': [..., ...], # [channel_1, channel_2]\n",
    "\n",
    "    # potentiomètre 1\n",
    "    'potentiometre_1': ..., # modification de la vitesse de rotation des moteurs grappin\n",
    "}"
   ]
  },
  {
   "cell_type": "code",
   "execution_count": 22,
   "metadata": {},
   "outputs": [],
   "source": [
    "def map_linear(x, in_min, in_max, out_min, out_max):\n",
    "    return int((x - in_min) * (out_max - out_min) / (in_max - in_min) + out_min)\n"
   ]
  },
  {
   "cell_type": "code",
   "execution_count": 23,
   "metadata": {},
   "outputs": [],
   "source": [
    "# retour du joystick pour direction\n",
    "\n",
    "def GetCommMotors(ch1, ch2):\n",
    "\n",
    "    DEAD_ZONE = 0.2    # 0 <= x <= 1\n",
    "\n",
    "    r = abs(ch1) + abs(ch2)\n",
    "    r_mapped = map_linear(r, DEAD_ZONE, 1, 0, 1)\n",
    "\n",
    "    if r <= DEAD_ZONE:\n",
    "        ch1_ = 0\n",
    "        ch2_ = 0\n",
    "    elif r >= DEAD_ZONE and r <= 1:\n",
    "        ch1_ = ch1 * r_mapped\n",
    "        ch2_ = ch2 * r_mapped\n",
    "    elif r >= 1:\n",
    "        ch1_ = ch1/r\n",
    "        ch2_ = ch2/r\n",
    "\n",
    "    Fv_G = -ch1_\n",
    "    Fv_D = ch1_\n",
    "    Fp_G = ch2_\n",
    "    Fp_D = ch2_\n",
    "\n",
    "    F_G = Fv_G + Fp_G\n",
    "    F_D = Fv_D + Fp_D\n",
    "\n",
    "    if F_G < 0:\n",
    "        angle_G = 0\n",
    "    elif F_G == 0:\n",
    "        angle_G = 90\n",
    "    elif F_G > 0:\n",
    "        angle_G = 180\n",
    "\n",
    "    if F_D < 0:\n",
    "        angle_D = 0\n",
    "    elif F_D == 0:\n",
    "        angle_D = 90\n",
    "    elif F_D > 0:\n",
    "        angle_D = 180\n",
    "\n",
    "    return abs(F_G), abs(F_D), angle_G, angle_D"
   ]
  },
  {
   "cell_type": "code",
   "execution_count": 24,
   "metadata": {},
   "outputs": [],
   "source": [
    "def GetSpeedGrappin(ch3):\n",
    "    \n",
    "    DEAD_ZONE = 0.2     # 0 <= x <= 2\n",
    "    MAX_SPEED = 1000\n",
    "    \n",
    "    if ch3 < -DEAD_ZONE/2:\n",
    "        speedGrappin = map_linear(ch3, -1, -DEAD_ZONE/2, -MAX_SPEED, 0)\n",
    "\n",
    "    elif (-DEAD_ZONE/2 <= ch3 and ch3 <= DEAD_ZONE/2):\n",
    "        speedGrappin = 0\n",
    "\n",
    "    elif (DEAD_ZONE/2 < ch3):\n",
    "        speedGrappin = map_linear(ch3, DEAD_ZONE/2, 1, 0, MAX_SPEED)\n",
    "    \n",
    "    return speedGrappin"
   ]
  },
  {
   "cell_type": "code",
   "execution_count": 25,
   "metadata": {},
   "outputs": [],
   "source": [
    "def FlightControl(commande) -> dict:\n",
    "\n",
    "    speed_motor_G, speed_motor_D, angle_servomot_G, angle_servomot_D = GetCommMotors(commande['joystick'][0], commande['joystick'][1])\n",
    "\n",
    "    instruction_motor = {\n",
    "\n",
    "        # gestion moteur avant droit\n",
    "        'speed_AvD': speed_motor_D,\n",
    "        'angle_AvD': angle_servomot_D,\n",
    "\n",
    "        # moteur avant gauche\n",
    "        'speed_AvG': speed_motor_G,\n",
    "        'angle_AvG': angle_servomot_G,\n",
    "\n",
    "        # moteur arrière droit\n",
    "        'speed_ArD': speed_motor_D,\n",
    "        'angle_ArD': angle_servomot_D,\n",
    "\n",
    "        # moteur arrière gauche\n",
    "        'speed_ArG': speed_motor_G,\n",
    "        'angle_ArG': angle_servomot_G\n",
    "\n",
    "    }\n",
    "\n",
    "    speed_stepmotor = GetSpeedGrappin(commande['slider']) # valeur entre -1 et 1\n",
    "\n",
    "    instruction_grappin = {\n",
    "        # control des vitesses de rotation des moteurs pas à pas\n",
    "        'speed_stepmotor' : speed_stepmotor,\n",
    "        'electro_aimant': commande['state_switch_1'], # 1 -> aimant actif, 0 --> aimant désactivé\n",
    "    }\n",
    "\n",
    "    control = {\n",
    "        'instruction_motor': instruction_motor,\n",
    "        'instruction_grappin': instruction_grappin,\n",
    "    }\n",
    "\n",
    "\n",
    "    return control"
   ]
  },
  {
   "cell_type": "markdown",
   "metadata": {},
   "source": [
    "```python\n",
    "IMU_i = {\n",
    "    'a_x': ...,\n",
    "    'a_y': ...,\n",
    "    'a_z': ...,\n",
    "    'v_p': ...,\n",
    "    'v_q': ...,\n",
    "    'v_r': ...\n",
    "}\n",
    "```"
   ]
  },
  {
   "cell_type": "markdown",
   "metadata": {},
   "source": [
    "M = I * a_rot"
   ]
  },
  {
   "cell_type": "code",
   "execution_count": 66,
   "metadata": {},
   "outputs": [],
   "source": [
    "def TransformIMUvalue(IMU_1: dict, IMU_2: dict, delta_t: float):\n",
    "\n",
    "    m_struct = 3\n",
    "\n",
    "    def InertieMomentum(a, b, m_tot):\n",
    "        I = (1/5) * m_tot * (np.square(a) + np.square(b))\n",
    "        return I\n",
    "    \n",
    "    Ix = InertieMomentum(a=0.75, b=0.75, m_tot=m_struct)\n",
    "    Iy = InertieMomentum(a=3, b=0.75, m_tot=m_struct)\n",
    "    Iz = InertieMomentum(a=3, b=0.75, m_tot=m_struct)\n",
    "\n",
    "    # TODO(1): faire delta omega en valeur absolue ? \n",
    "\n",
    "    # expression des moments (si c'est ok)\n",
    "    M_roulis = Ix * (np.deg2rad(IMU_1['v_p']) - np.deg2rad(IMU_2['v_p']))/delta_t\n",
    "    M_tangage = Iy * (np.deg2rad(IMU_1['v_q']) - np.deg2rad(IMU_2['v_q']))/delta_t\n",
    "    M_lacet = Iz * (np.deg2rad(IMU_1['v_r']) - np.deg2rad(IMU_2['v_r']))/delta_t\n",
    "\n",
    "    # expression des angles d'Euler\n",
    "    a_x = np.mean([[IMU_1['a_x'], IMU_2['a_x']]])\n",
    "    a_y = np.mean([[IMU_1['a_y'], IMU_2['a_y']]])\n",
    "    a_z = np.mean([[IMU_1['a_z'], IMU_2['a_z']]])\n",
    "\n",
    "    roll = np.arctan(a_y/a_z)\n",
    "    pitch = np.arcsin(a_x/9.80665)\n",
    "\n",
    "    # expression des forces\n",
    "    Fx = m_struct * a_x\n",
    "    Fy = m_struct * a_y\n",
    "    Fz = m_struct * a_z\n",
    "\n",
    "    dynamique = {\n",
    "        'momentum': {\n",
    "            'M_roulis': M_roulis,\n",
    "            'M_tangage': M_tangage,\n",
    "            'M_lacet': M_lacet,\n",
    "        },\n",
    "\n",
    "        'orientation': {\n",
    "            'roll': roll,\n",
    "            'pitch': pitch,\n",
    "        },\n",
    "\n",
    "        'force': {\n",
    "            'Fx': Fx,\n",
    "            'Fy': Fy,\n",
    "            'Fz': Fz\n",
    "        },\n",
    "    }\n",
    "\n",
    "    return dynamique\n"
   ]
  },
  {
   "cell_type": "code",
   "execution_count": 67,
   "metadata": {},
   "outputs": [],
   "source": [
    "IMU_1 = {\n",
    "    'a_x': 0.05,\n",
    "    'a_y': 0.0001,\n",
    "    'a_z':0.078,\n",
    "    'v_p': 0.02,\n",
    "    'v_q': 0.035,\n",
    "    'v_r': 0.004,\n",
    "}\n",
    "\n",
    "IMU_2 = {\n",
    "    'a_x': 0.048,\n",
    "    'a_y': 0.0003,\n",
    "    'a_z':0.084,\n",
    "    'v_p': 0.014,\n",
    "    'v_q': 0.037,\n",
    "    'v_r': 0.0045,\n",
    "}\n",
    "\n",
    "dynamique = TransformIMUvalue(IMU_1, IMU_2, 1e-4)"
   ]
  },
  {
   "cell_type": "code",
   "execution_count": 68,
   "metadata": {},
   "outputs": [
    {
     "data": {
      "text/plain": [
       "{'M_roulis': 0.7068583470577037,\n",
       " 'M_tangage': -2.002765316663486,\n",
       " 'M_lacet': -0.500691329165873}"
      ]
     },
     "execution_count": 68,
     "metadata": {},
     "output_type": "execute_result"
    }
   ],
   "source": [
    "dynamique['momentum']"
   ]
  },
  {
   "cell_type": "code",
   "execution_count": 69,
   "metadata": {},
   "outputs": [
    {
     "data": {
      "text/plain": [
       "{'roll': 0.002469130784683695, 'pitch': 0.004996630234805545}"
      ]
     },
     "execution_count": 69,
     "metadata": {},
     "output_type": "execute_result"
    }
   ],
   "source": [
    "dynamique['orientation']"
   ]
  },
  {
   "cell_type": "code",
   "execution_count": 70,
   "metadata": {},
   "outputs": [
    {
     "data": {
      "text/plain": [
       "{'Fx': 0.14700000000000002, 'Fy': 0.0006, 'Fz': 0.243}"
      ]
     },
     "execution_count": 70,
     "metadata": {},
     "output_type": "execute_result"
    }
   ],
   "source": [
    "dynamique['force']"
   ]
  }
 ],
 "metadata": {
  "kernelspec": {
   "display_name": "jaxspec",
   "language": "python",
   "name": "python3"
  },
  "language_info": {
   "codemirror_mode": {
    "name": "ipython",
    "version": 3
   },
   "file_extension": ".py",
   "mimetype": "text/x-python",
   "name": "python",
   "nbconvert_exporter": "python",
   "pygments_lexer": "ipython3",
   "version": "3.10.13"
  }
 },
 "nbformat": 4,
 "nbformat_minor": 2
}
