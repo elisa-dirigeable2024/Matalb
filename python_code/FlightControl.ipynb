{
 "cells": [
  {
   "cell_type": "code",
   "execution_count": 1,
   "metadata": {},
   "outputs": [],
   "source": [
    "import numpy as np"
   ]
  },
  {
   "cell_type": "code",
   "execution_count": 2,
   "metadata": {},
   "outputs": [],
   "source": [
    "commande = {\n",
    "    # switch\n",
    "        # mode vol / grappin\n",
    "    'state_switch_1': ..., # 0 --> position haut du switch 1 / 1 --> position basse du switch 1\n",
    "    'state_switch_2': ..., # 0 --> position haut du switch 2 / 1 --> position basse du switch 2\n",
    "    'state_switch_3': ..., # 0 --> position haut du switch 3 / 1 --> position milieu du switch 3 / 2 --> position basse du switch 3\n",
    "    'state_switch_4': ..., # 0 --> position haut du switch 4 / 1 --> position basse du switch 4\n",
    "\n",
    "    # position slider \n",
    "    'slider': ..., # valeur entre 0 et 100\n",
    "\n",
    "    # position joystick\n",
    "    'joystick': [..., ...], # [channel_1, channel_2]\n",
    "\n",
    "    # potentiomètre 1\n",
    "    'potentiometre_1': ..., # modification de la vitesse de rotation des moteurs grappin\n",
    "}"
   ]
  },
  {
   "cell_type": "code",
   "execution_count": null,
   "metadata": {},
   "outputs": [],
   "source": [
    "def GetCommMotors(a, b):\n",
    "    r = np.abs(a) + np.abs(b)\n",
    "\n",
    "    Fv_1 = -a if r <= 1 else -a/r\n",
    "    Fv_2 = a if r <= 1 else a/r\n",
    "    Fp_1 = b if r <= 1 else b/r\n",
    "    Fp_2 = b if r <= 1 else b/r\n",
    "\n",
    "    F_1 = Fv_1 + Fp_1\n",
    "    F_2 = Fv_2 + Fp_2\n",
    "\n",
    "    angle_1 = 0 if F_1 >= 0 else 180\n",
    "    angle_2 = 0 if F_2 >= 0 else 180\n",
    "\n",
    "    return abs(F_1), abs(F_2), angle_1, angle_2"
   ]
  },
  {
   "cell_type": "code",
   "execution_count": null,
   "metadata": {},
   "outputs": [],
   "source": [
    "def map_linear(x, in_min, in_max, out_min, out_max):\n",
    "    return int((x - in_min) * (out_max - out_min) / (in_max - in_min) + out_min)\n",
    "\n",
    "def GetSpeedGrappin(ch3):\n",
    "    \n",
    "    DETECTION_ZONE = 0.5    # 0 <= x <= 2\n",
    "    MAX_SPEED = 1000\n",
    "    \n",
    "    if ch3 < -DETECTION_ZONE/2:\n",
    "        speedGrappin = map_linear(ch3, -1, -DETECTION_ZONE/2, -MAX_SPEED, 0)\n",
    "\n",
    "    elif (-DETECTION_ZONE/2 <= ch3 and ch3 <= DETECTION_ZONE/2):\n",
    "        speedGrappin = 0\n",
    "\n",
    "    elif (DETECTION_ZONE/2 < ch3):\n",
    "        speedGrappin = map_linear(ch3, DETECTION_ZONE/2, 1, 0, MAX_SPEED)\n",
    "    \n",
    "    return speedGrappin"
   ]
  },
  {
   "cell_type": "code",
   "execution_count": null,
   "metadata": {},
   "outputs": [],
   "source": [
    "def FlightControl(commande) -> dict:\n",
    "\n",
    "    speed_motor_G, speed_motor_D, angle_servomot_G, angle_servomot_D = GetCommMotors(commande['joystick'][0], commande['joystick'][1])\n",
    "    speed_stepmotor = GetSpeedGrappin(commande['slider']) # valeur entre -1 et 1\n",
    "\n",
    "    instruction_motor = {\n",
    "\n",
    "        # gestion moteur avant droit\n",
    "        'speed_AvD': speed_motor_D,\n",
    "        'angle_AvD': angle_servomot_D,\n",
    "\n",
    "        # moteur avant gauche\n",
    "        'speed_AvG': speed_motor_G,\n",
    "        'angle_AvG': angle_servomot_G,\n",
    "\n",
    "        # moteur arrière droit\n",
    "        'speed_ArD': speed_motor_D,\n",
    "        'angle_ArD': angle_servomot_D,\n",
    "\n",
    "        # moteur arrière gauche\n",
    "        'speed_ArG': speed_motor_G,\n",
    "        'angle_ArG': angle_servomot_G\n",
    "\n",
    "    }\n",
    "\n",
    "    instruction_grappin = {\n",
    "        # control des vitesses de rotation des moteurs pas à pas\n",
    "        'speed_stepmotor' : speed_stepmotor\n",
    "    }\n",
    "    \n",
    "\n",
    "    control = {\n",
    "        'instruction_motor': instruction_motor,\n",
    "        'instruction_grappin': instruction_grappin,\n",
    "        'instruction_ballast': ...,\n",
    "    }\n",
    "\n",
    "\n",
    "    return control"
   ]
  }
 ],
 "metadata": {
  "kernelspec": {
   "display_name": "jaxspec",
   "language": "python",
   "name": "python3"
  },
  "language_info": {
   "codemirror_mode": {
    "name": "ipython",
    "version": 3
   },
   "file_extension": ".py",
   "mimetype": "text/x-python",
   "name": "python",
   "nbconvert_exporter": "python",
   "pygments_lexer": "ipython3",
   "version": "3.10.13"
  }
 },
 "nbformat": 4,
 "nbformat_minor": 2
}
