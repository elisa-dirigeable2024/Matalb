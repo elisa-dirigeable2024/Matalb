{
 "cells": [
  {
   "cell_type": "code",
   "execution_count": 14,
   "metadata": {},
   "outputs": [],
   "source": [
    "import scipy.io"
   ]
  },
  {
   "cell_type": "code",
   "execution_count": 15,
   "metadata": {},
   "outputs": [],
   "source": [
    "data_motor = {\n",
    "    'x1': [2.05, 2.05, -1.05, -1.05],\n",
    "    'x2': [1.95, 1.95, -0.95, -0.95],\n",
    "    'y1': [0.9, -0.9, 0.9, -0.9],\n",
    "    'y2': [1.1, -1.1, 1.1, -1.1],\n",
    "    'z1': [-0.1, -0.1, -0.1, -0.1],\n",
    "    'z2': [0.1, 0.1, 0.1, 0.1]\n",
    "}"
   ]
  },
  {
   "cell_type": "code",
   "execution_count": 16,
   "metadata": {},
   "outputs": [],
   "source": [
    "scipy.io.savemat(\"data\\MotorPosition.mat\", data_motor)"
   ]
  },
  {
   "cell_type": "code",
   "execution_count": 17,
   "metadata": {},
   "outputs": [],
   "source": [
    "data_nacelle = {\n",
    "    'x1': 0.43102,\n",
    "    'x2': 0.63602,\n",
    "    'y1': -0.0575,\n",
    "    'y2': 0.0575,\n",
    "    'z1': -0.7,\n",
    "    'z2': -0.805\n",
    "}"
   ]
  },
  {
   "cell_type": "code",
   "execution_count": 18,
   "metadata": {},
   "outputs": [],
   "source": [
    "scipy.io.savemat(r\"data\\NacellePosition.mat\", data_nacelle)"
   ]
  },
  {
   "cell_type": "code",
   "execution_count": 19,
   "metadata": {},
   "outputs": [],
   "source": [
    "data_ballast = {\n",
    "    'x1': [1.68, 0.93, 0.18, -0.57],\n",
    "    'x2': [1.83, 1.08, 0.33, -0.42],\n",
    "    'y1': [-0.02, -0.02, -0.02, -0.02],\n",
    "    'y2': [0.02, 0.02, 0.02, 0.02],\n",
    "    'z1': [-0.7, -0.7, -0.7, -0.7],\n",
    "    'z2': [-0.75, -0.75, -0.75, -0.75]\n",
    "}\n",
    "\n",
    "scipy.io.savemat(\"data\\BallastPosition.mat\", data_ballast)"
   ]
  },
  {
   "cell_type": "code",
   "execution_count": 20,
   "metadata": {},
   "outputs": [],
   "source": [
    "data_battery = {\n",
    "    'x1': [1.92, -1.08],\n",
    "    'x2': [2.08, -0.92],\n",
    "    'y1': [-0.1125,-0.1125],\n",
    "    'y2': [0.1125, 0.1125],\n",
    "    'z1': [-0.7, -0.8],\n",
    "    'z2': [-0.75, -0.85]\n",
    "}\n",
    "\n",
    "scipy.io.savemat(\"data\\Battery.mat\", data_battery)"
   ]
  }
 ],
 "metadata": {
  "kernelspec": {
   "display_name": "jaxspec",
   "language": "python",
   "name": "python3"
  },
  "language_info": {
   "codemirror_mode": {
    "name": "ipython",
    "version": 3
   },
   "file_extension": ".py",
   "mimetype": "text/x-python",
   "name": "python",
   "nbconvert_exporter": "python",
   "pygments_lexer": "ipython3",
   "version": "3.10.13"
  }
 },
 "nbformat": 4,
 "nbformat_minor": 2
}
