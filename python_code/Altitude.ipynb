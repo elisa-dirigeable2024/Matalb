{
 "cells": [
  {
   "cell_type": "code",
   "execution_count": 1,
   "metadata": {},
   "outputs": [],
   "source": [
    "import numpy as np"
   ]
  },
  {
   "cell_type": "code",
   "execution_count": null,
   "metadata": {},
   "outputs": [],
   "source": [
    "def Altitude(LIDARvalue, min_value, max_value):\n",
    "\n",
    "    if LIDARvalue < min_value:\n",
    "        \n",
    "        speed, angle = 20, 90\n",
    "\n",
    "        instruction_motor = {\n",
    "            # moteur AvD\n",
    "            'speed_AvD': speed,\n",
    "            'angle_AvD': angle,\n",
    "            # moteur AvG\n",
    "            'speed_AvG': speed, \n",
    "            'angle_AvG': angle,\n",
    "            # moteur ArD\n",
    "            'speed_ArD': speed,\n",
    "            'angle_ArD': angle,\n",
    "            # moteur ArG\n",
    "            'speed_ArG': speed,\n",
    "            'angle_ArG': angle,\n",
    "        }\n",
    "\n",
    "    elif LIDARvalue > max_value - 10:\n",
    "                \n",
    "        speed, angle = \n",
    "\n",
    "        instruction_motor = {\n",
    "            # moteur AvD\n",
    "            'speed_AvD': speed,\n",
    "            'angle_AvD': angle,\n",
    "            # moteur AvG\n",
    "            'speed_AvG': speed, \n",
    "            'angle_AvG': angle,\n",
    "            # moteur ArD\n",
    "            'speed_ArD': speed,\n",
    "            'angle_ArD': angle,\n",
    "            # moteur ArG\n",
    "            'speed_ArG': speed,\n",
    "            'angle_ArG': angle,\n",
    "        }\n",
    "\n",
    "    else:\n",
    "        pass\n",
    "\n",
    "\n",
    "    return instruction_motor"
   ]
  }
 ],
 "metadata": {
  "kernelspec": {
   "display_name": "jaxspec",
   "language": "python",
   "name": "python3"
  },
  "language_info": {
   "codemirror_mode": {
    "name": "ipython",
    "version": 3
   },
   "file_extension": ".py",
   "mimetype": "text/x-python",
   "name": "python",
   "nbconvert_exporter": "python",
   "pygments_lexer": "ipython3",
   "version": "3.10.13"
  }
 },
 "nbformat": 4,
 "nbformat_minor": 2
}
